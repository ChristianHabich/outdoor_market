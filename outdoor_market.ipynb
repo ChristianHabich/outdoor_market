{
 "cells": [
  {
   "cell_type": "markdown",
   "id": "f8ae9ad5",
   "metadata": {},
   "source": [
    "# Market analysis outdoor companies"
   ]
  },
  {
   "cell_type": "markdown",
   "id": "299463e3",
   "metadata": {},
   "source": [
    "The goal of this analysis is to compare the market position and product pricing for outdoor companies, especially on the european market. In step one revenues of major outdoor companies in the years from 2012-2020 are analysed to get an indication for market shares and growth rates. In step two product descriptions and prices for hiking clothes are scraped from the websites of two companies (Quechua + Vaude) and their pricing is investigated."
   ]
  },
  {
   "cell_type": "markdown",
   "id": "cf51e613",
   "metadata": {},
   "source": [
    "## 1. Market shares & growth"
   ]
  },
  {
   "cell_type": "code",
   "execution_count": 1,
   "id": "5bfb9269",
   "metadata": {},
   "outputs": [],
   "source": [
    "import pandas as pd\n",
    "import numpy as np\n",
    "import matplotlib.pyplot as plt\n",
    "plt.style.use('ggplot')\n",
    "import requests\n",
    "from bs4 import BeautifulSoup\n",
    "import re\n",
    "from re import search\n",
    "import seaborn as sns"
   ]
  },
  {
   "cell_type": "markdown",
   "id": "1b78e490",
   "metadata": {},
   "source": [
    "1.1 Import and prepare data for analysis"
   ]
  },
  {
   "cell_type": "code",
   "execution_count": 2,
   "id": "bfc3584d",
   "metadata": {},
   "outputs": [],
   "source": [
    "df = pd.read_csv('outdoor.csv',sep=';',index_col=0)"
   ]
  },
  {
   "cell_type": "code",
   "execution_count": 3,
   "id": "0ca92a63",
   "metadata": {},
   "outputs": [
    {
     "data": {
      "text/html": [
       "<div>\n",
       "<style scoped>\n",
       "    .dataframe tbody tr th:only-of-type {\n",
       "        vertical-align: middle;\n",
       "    }\n",
       "\n",
       "    .dataframe tbody tr th {\n",
       "        vertical-align: top;\n",
       "    }\n",
       "\n",
       "    .dataframe thead th {\n",
       "        text-align: right;\n",
       "    }\n",
       "</style>\n",
       "<table border=\"1\" class=\"dataframe\">\n",
       "  <thead>\n",
       "    <tr style=\"text-align: right;\">\n",
       "      <th></th>\n",
       "      <th>JackWolfskin</th>\n",
       "      <th>Mammut</th>\n",
       "      <th>Vaude</th>\n",
       "      <th>NorthFace</th>\n",
       "      <th>Columbia</th>\n",
       "      <th>Salewa</th>\n",
       "      <th>Decathlon</th>\n",
       "    </tr>\n",
       "  </thead>\n",
       "  <tbody>\n",
       "    <tr>\n",
       "      <th>2012</th>\n",
       "      <td>351</td>\n",
       "      <td>NaN</td>\n",
       "      <td>75</td>\n",
       "      <td>4860</td>\n",
       "      <td>1670</td>\n",
       "      <td>160</td>\n",
       "      <td>7000</td>\n",
       "    </tr>\n",
       "    <tr>\n",
       "      <th>2013</th>\n",
       "      <td>324</td>\n",
       "      <td>247.0</td>\n",
       "      <td>80</td>\n",
       "      <td>5101</td>\n",
       "      <td>1685</td>\n",
       "      <td>180</td>\n",
       "      <td>7400</td>\n",
       "    </tr>\n",
       "    <tr>\n",
       "      <th>2014</th>\n",
       "      <td>345</td>\n",
       "      <td>250.0</td>\n",
       "      <td>82</td>\n",
       "      <td>5307</td>\n",
       "      <td>2101</td>\n",
       "      <td>202</td>\n",
       "      <td>8200</td>\n",
       "    </tr>\n",
       "    <tr>\n",
       "      <th>2015</th>\n",
       "      <td>314</td>\n",
       "      <td>235.0</td>\n",
       "      <td>84</td>\n",
       "      <td>4912</td>\n",
       "      <td>2326</td>\n",
       "      <td>205</td>\n",
       "      <td>9100</td>\n",
       "    </tr>\n",
       "    <tr>\n",
       "      <th>2016</th>\n",
       "      <td>351</td>\n",
       "      <td>233.0</td>\n",
       "      <td>91</td>\n",
       "      <td>4925</td>\n",
       "      <td>2377</td>\n",
       "      <td>205</td>\n",
       "      <td>10100</td>\n",
       "    </tr>\n",
       "    <tr>\n",
       "      <th>2017</th>\n",
       "      <td>331</td>\n",
       "      <td>229.0</td>\n",
       "      <td>97</td>\n",
       "      <td>3750</td>\n",
       "      <td>2466</td>\n",
       "      <td>210</td>\n",
       "      <td>11100</td>\n",
       "    </tr>\n",
       "    <tr>\n",
       "      <th>2018</th>\n",
       "      <td>334</td>\n",
       "      <td>253.0</td>\n",
       "      <td>102</td>\n",
       "      <td>1039</td>\n",
       "      <td>2802</td>\n",
       "      <td>210</td>\n",
       "      <td>11300</td>\n",
       "    </tr>\n",
       "    <tr>\n",
       "      <th>2019</th>\n",
       "      <td>319</td>\n",
       "      <td>268.0</td>\n",
       "      <td>102</td>\n",
       "      <td>4586</td>\n",
       "      <td>3042</td>\n",
       "      <td>230</td>\n",
       "      <td>12400</td>\n",
       "    </tr>\n",
       "    <tr>\n",
       "      <th>2020</th>\n",
       "      <td>309</td>\n",
       "      <td>218.0</td>\n",
       "      <td>110</td>\n",
       "      <td>4685</td>\n",
       "      <td>2501</td>\n",
       "      <td>240</td>\n",
       "      <td>11400</td>\n",
       "    </tr>\n",
       "  </tbody>\n",
       "</table>\n",
       "</div>"
      ],
      "text/plain": [
       "      JackWolfskin  Mammut  Vaude  NorthFace  Columbia  Salewa  Decathlon\n",
       "2012           351     NaN     75       4860      1670     160       7000\n",
       "2013           324   247.0     80       5101      1685     180       7400\n",
       "2014           345   250.0     82       5307      2101     202       8200\n",
       "2015           314   235.0     84       4912      2326     205       9100\n",
       "2016           351   233.0     91       4925      2377     205      10100\n",
       "2017           331   229.0     97       3750      2466     210      11100\n",
       "2018           334   253.0    102       1039      2802     210      11300\n",
       "2019           319   268.0    102       4586      3042     230      12400\n",
       "2020           309   218.0    110       4685      2501     240      11400"
      ]
     },
     "execution_count": 3,
     "metadata": {},
     "output_type": "execute_result"
    }
   ],
   "source": [
    "df"
   ]
  },
  {
   "cell_type": "code",
   "execution_count": 4,
   "id": "60eadbf0",
   "metadata": {},
   "outputs": [],
   "source": [
    "df.Mammut.fillna(df.Mammut.median(),inplace=True)\n",
    "df['Mammut'] = df.Mammut.astype('int64')"
   ]
  },
  {
   "cell_type": "code",
   "execution_count": 5,
   "id": "f4323c48",
   "metadata": {},
   "outputs": [],
   "source": [
    "employees_quechua = 200\n",
    "employees_simond = 19\n",
    "employees_decathlon = 93710\n",
    "\n",
    "perc_retail = 0.759\n",
    "perc_logistics = 0.131\n",
    "perc_prod = 0.053\n",
    "perc_support = 0.057\n",
    "\n",
    "df['Quechua_Simond'] = df.Decathlon*((employees_quechua+employees_simond)/(employees_decathlon*(1-perc_retail)))\n",
    "df['Quechua_Simond'] = df.Quechua_Simond.astype('int64')\n",
    "df.drop(['Decathlon'],axis=1,inplace=True)"
   ]
  },
  {
   "cell_type": "code",
   "execution_count": 6,
   "id": "d280dc0f",
   "metadata": {},
   "outputs": [
    {
     "data": {
      "text/html": [
       "<div>\n",
       "<style scoped>\n",
       "    .dataframe tbody tr th:only-of-type {\n",
       "        vertical-align: middle;\n",
       "    }\n",
       "\n",
       "    .dataframe tbody tr th {\n",
       "        vertical-align: top;\n",
       "    }\n",
       "\n",
       "    .dataframe thead th {\n",
       "        text-align: right;\n",
       "    }\n",
       "</style>\n",
       "<table border=\"1\" class=\"dataframe\">\n",
       "  <thead>\n",
       "    <tr style=\"text-align: right;\">\n",
       "      <th></th>\n",
       "      <th>JackWolfskin</th>\n",
       "      <th>Mammut</th>\n",
       "      <th>Vaude</th>\n",
       "      <th>NorthFace</th>\n",
       "      <th>Columbia</th>\n",
       "      <th>Salewa</th>\n",
       "      <th>Quechua_Simond</th>\n",
       "    </tr>\n",
       "  </thead>\n",
       "  <tbody>\n",
       "    <tr>\n",
       "      <th>2012</th>\n",
       "      <td>351</td>\n",
       "      <td>241</td>\n",
       "      <td>75</td>\n",
       "      <td>4860</td>\n",
       "      <td>1670</td>\n",
       "      <td>160</td>\n",
       "      <td>67</td>\n",
       "    </tr>\n",
       "    <tr>\n",
       "      <th>2013</th>\n",
       "      <td>324</td>\n",
       "      <td>247</td>\n",
       "      <td>80</td>\n",
       "      <td>5101</td>\n",
       "      <td>1685</td>\n",
       "      <td>180</td>\n",
       "      <td>71</td>\n",
       "    </tr>\n",
       "    <tr>\n",
       "      <th>2014</th>\n",
       "      <td>345</td>\n",
       "      <td>250</td>\n",
       "      <td>82</td>\n",
       "      <td>5307</td>\n",
       "      <td>2101</td>\n",
       "      <td>202</td>\n",
       "      <td>79</td>\n",
       "    </tr>\n",
       "    <tr>\n",
       "      <th>2015</th>\n",
       "      <td>314</td>\n",
       "      <td>235</td>\n",
       "      <td>84</td>\n",
       "      <td>4912</td>\n",
       "      <td>2326</td>\n",
       "      <td>205</td>\n",
       "      <td>88</td>\n",
       "    </tr>\n",
       "    <tr>\n",
       "      <th>2016</th>\n",
       "      <td>351</td>\n",
       "      <td>233</td>\n",
       "      <td>91</td>\n",
       "      <td>4925</td>\n",
       "      <td>2377</td>\n",
       "      <td>205</td>\n",
       "      <td>97</td>\n",
       "    </tr>\n",
       "    <tr>\n",
       "      <th>2017</th>\n",
       "      <td>331</td>\n",
       "      <td>229</td>\n",
       "      <td>97</td>\n",
       "      <td>3750</td>\n",
       "      <td>2466</td>\n",
       "      <td>210</td>\n",
       "      <td>107</td>\n",
       "    </tr>\n",
       "    <tr>\n",
       "      <th>2018</th>\n",
       "      <td>334</td>\n",
       "      <td>253</td>\n",
       "      <td>102</td>\n",
       "      <td>1039</td>\n",
       "      <td>2802</td>\n",
       "      <td>210</td>\n",
       "      <td>109</td>\n",
       "    </tr>\n",
       "    <tr>\n",
       "      <th>2019</th>\n",
       "      <td>319</td>\n",
       "      <td>268</td>\n",
       "      <td>102</td>\n",
       "      <td>4586</td>\n",
       "      <td>3042</td>\n",
       "      <td>230</td>\n",
       "      <td>120</td>\n",
       "    </tr>\n",
       "    <tr>\n",
       "      <th>2020</th>\n",
       "      <td>309</td>\n",
       "      <td>218</td>\n",
       "      <td>110</td>\n",
       "      <td>4685</td>\n",
       "      <td>2501</td>\n",
       "      <td>240</td>\n",
       "      <td>110</td>\n",
       "    </tr>\n",
       "  </tbody>\n",
       "</table>\n",
       "</div>"
      ],
      "text/plain": [
       "      JackWolfskin  Mammut  Vaude  NorthFace  Columbia  Salewa  Quechua_Simond\n",
       "2012           351     241     75       4860      1670     160              67\n",
       "2013           324     247     80       5101      1685     180              71\n",
       "2014           345     250     82       5307      2101     202              79\n",
       "2015           314     235     84       4912      2326     205              88\n",
       "2016           351     233     91       4925      2377     205              97\n",
       "2017           331     229     97       3750      2466     210             107\n",
       "2018           334     253    102       1039      2802     210             109\n",
       "2019           319     268    102       4586      3042     230             120\n",
       "2020           309     218    110       4685      2501     240             110"
      ]
     },
     "execution_count": 6,
     "metadata": {},
     "output_type": "execute_result"
    }
   ],
   "source": [
    "df"
   ]
  },
  {
   "cell_type": "markdown",
   "id": "c89e96ab",
   "metadata": {},
   "source": [
    "1.2. Plot graphs to determine market shares and growth rates"
   ]
  },
  {
   "cell_type": "code",
   "execution_count": 7,
   "id": "e11d5f13",
   "metadata": {},
   "outputs": [
    {
     "data": {
      "image/png": "[encoded data removed]",
      "text/plain": [
       "<Figure size 1224x360 with 1 Axes>"
      ]
     },
     "metadata": {},
     "output_type": "display_data"
    }
   ],
   "source": [
    "df.plot(kind='bar',figsize=(17,5))\n",
    "plt.legend(bbox_to_anchor=(1.04,1), loc=\"upper left\")\n",
    "plt.title('yearly revenue for major outdoor companies');"
   ]
  },
  {
   "cell_type": "code",
   "execution_count": 8,
   "id": "2d7e54ee",
   "metadata": {},
   "outputs": [
    {
     "data": {
      "image/png": "[encoded data removed]",
      "text/plain": [
       "<Figure size 1224x360 with 1 Axes>"
      ]
     },
     "metadata": {},
     "output_type": "display_data"
    }
   ],
   "source": [
    "df.iloc[:,[0,1,2,5,6]].plot(kind='bar',figsize=(17,5))\n",
    "plt.legend(bbox_to_anchor=(1.04,1), loc=\"upper left\")\n",
    "plt.title('yearly revenue without NorthFace and Columbia');"
   ]
  },
  {
   "cell_type": "code",
   "execution_count": 9,
   "id": "ac4b7ff5",
   "metadata": {},
   "outputs": [
    {
     "data": {
      "image/png": "[encoded data removed]",
      "text/plain": [
       "<Figure size 1224x360 with 2 Axes>"
      ]
     },
     "metadata": {},
     "output_type": "display_data"
    }
   ],
   "source": [
    "fig,(ax1,ax2) = plt.subplots(nrows=1,ncols=2,figsize=(17,5))\n",
    "labels = df.columns.tolist()\n",
    "ax1.pie(x=df[df.index==2019].values.flatten().tolist(),labels=labels,autopct='%.1f%%',pctdistance=0.8)\n",
    "ax2.pie(x=df[df.index==2020].values.flatten().tolist(),labels=labels,autopct='%.1f%%',pctdistance=0.8)\n",
    "ax1.set_title('market shares outdoor companies in 2019')\n",
    "ax2.set_title('market shares outdoor companies in 2020')\n",
    "plt.show()"
   ]
  },
  {
   "cell_type": "code",
   "execution_count": 10,
   "id": "db33b277",
   "metadata": {},
   "outputs": [
    {
     "data": {
      "image/png": "[encoded data removed]",
      "text/plain": [
       "<Figure size 1440x720 with 1 Axes>"
      ]
     },
     "metadata": {},
     "output_type": "display_data"
    }
   ],
   "source": [
    "ax = df.iloc[:,[0,1,2,5,6]].pct_change().mul(100).round(2)\n",
    "ax = ax[ax.index>2012]\n",
    "ax = ax.plot(kind='bar',figsize=(20,10));\n",
    "plt.title('relative change in revenue among european outdoor companies')\n",
    "for p in ax.patches:\n",
    "    b = p.get_bbox()\n",
    "    val = \"{:+.1f}\".format(b.y1+b.y0)        \n",
    "    ax.annotate(val,((b.x0+b.x1)/2,b.y1))"
   ]
  },
  {
   "cell_type": "markdown",
   "id": "24bf7724",
   "metadata": {},
   "source": [
    "**Conclusion 1:** The market is globally dominated by the American companies The North Face and Columbia, in Europe Jack Wolfskin and Mammut are showing strong revenues. While the former dropped in sales since 2013, the later was hit hard by the pandemic. Quechua and Simond show two-digit growth rates except of last year. An interesting case is Vaude that shows very stable growth rates, including 2020. "
   ]
  },
  {
   "cell_type": "markdown",
   "id": "19450cdb",
   "metadata": {},
   "source": [
    "## 2. Scraping product prices"
   ]
  },
  {
   "cell_type": "markdown",
   "id": "39a3ce1a",
   "metadata": {},
   "source": [
    "2.1. Scrape data for Quechua and store in DataFrame"
   ]
  },
  {
   "cell_type": "code",
   "execution_count": 11,
   "id": "a890c48b",
   "metadata": {},
   "outputs": [],
   "source": [
    "headers = {\"Accept\":\"*/*\",\n",
    "           \"Accept-Encoding\":\"gzip, deflate, br\",\n",
    "           \"Accept-Language\":\"en-US,en;q=0.5\",\n",
    "           \"Cache-Control\":\"max-age=0\",\n",
    "           \"Connection\":\"keep-alive\",\n",
    "           \"Host\":\"www.decathlon.fr\",\n",
    "           \"Sec-Fetch-Dest\":\"script\",\n",
    "           \"Sec-Fetch-Mode\":\"no-cors\",\n",
    "           \"Sec-Fetch-Site\":\"same-origin\",\n",
    "           \"TE\":\"trailers\",\n",
    "           \"User-Agent\":\"Mozilla/5.0 (Windows NT 10.0; Win64; x64; rv:95.0) Gecko/20100101 Firefox/95.0\"}"
   ]
  },
  {
   "cell_type": "code",
   "execution_count": 12,
   "id": "e95e61ea",
   "metadata": {},
   "outputs": [
    {
     "name": "stdout",
     "output_type": "stream",
     "text": [
      "291\n",
      "291\n"
     ]
    }
   ],
   "source": [
    "url_origine = \"https://www.decathlon.fr/browse/b/quechua/c0-tous-les-sports/c1-randonnee-trek/c2-vetements/_/N-1ykqjryZ1egn7r3\"\n",
    "\n",
    "quechua_products = []\n",
    "quechua_prices = []\n",
    "\n",
    "for i in range(0,8):\n",
    "    if i == 0:\n",
    "        url_complete = url_origine\n",
    "    else:\n",
    "        url_complete = url_origine+\"?from=\"+str(i*40)+\"&size=40\"\n",
    "        \n",
    "    quechua = requests.Session().get(url_complete,headers=headers)\n",
    "    soup = BeautifulSoup(quechua.content)\n",
    "        \n",
    "    for h in soup.find_all(class_='dpb-holder loaded svelte-113iq8r'):\n",
    "        for c in h.find_all(class_='dpb-informations svelte-113iq8r'):\n",
    "            for p in c.find_all(class_='dpb-product-link svelte-113iq8r'):\n",
    "                for s in p.find_all('span'):\n",
    "                    quechua_products.append(s.text)\n",
    "    for h in soup.find_all(class_='dpb-holder loaded svelte-113iq8r'):\n",
    "        for c in h.find_all(class_='prc__cartridge'):\n",
    "            for p in c.find_all(class_='prc__active-price'):\n",
    "                quechua_prices.append(p.text)\n",
    "                    \n",
    "quechua_prices = [x.replace('\\n', '') for x in quechua_prices]\n",
    "print(len(quechua_products))\n",
    "print(len(quechua_prices))"
   ]
  },
  {
   "cell_type": "code",
   "execution_count": 13,
   "id": "cae4c25b",
   "metadata": {},
   "outputs": [],
   "source": [
    "quechua_scraped = pd.DataFrame({'product':quechua_products,'price':quechua_prices})"
   ]
  },
  {
   "cell_type": "code",
   "execution_count": 14,
   "id": "1345e149",
   "metadata": {},
   "outputs": [],
   "source": [
    "def gender(product):\n",
    "    if search('Femme',product,re.IGNORECASE):\n",
    "        return 'women'\n",
    "    elif search('Homme',product,re.IGNORECASE):\n",
    "        return 'men'\n",
    "    elif search('enfant',product,re.IGNORECASE):\n",
    "        return 'children'\n",
    "    else:\n",
    "        return 'unisex'"
   ]
  },
  {
   "cell_type": "code",
   "execution_count": 15,
   "id": "ddc64de4",
   "metadata": {},
   "outputs": [],
   "source": [
    "def category(product):\n",
    "    if search('Veste',product,re.IGNORECASE):\n",
    "        return 'jacket'\n",
    "    elif search('Pantalon',product,re.IGNORECASE):\n",
    "        return 'pants'\n",
    "    elif search('Chaussettes',product,re.IGNORECASE):\n",
    "        return 'socks'\n",
    "    elif search('Gilet',product,re.IGNORECASE):\n",
    "        return 'vest'\n",
    "    elif search('Gants',product,re.IGNORECASE):\n",
    "        return 'gloves'\n",
    "    elif search('Polaire',product,re.IGNORECASE):\n",
    "        return 'fleece'\n",
    "    elif search('Doudoune',product,re.IGNORECASE):\n",
    "        return 'coat'\n",
    "    elif search('Legging',product,re.IGNORECASE):\n",
    "        return 'legging'\n",
    "    elif search('T-Shirt',product,re.IGNORECASE):\n",
    "        return 't-shirt'\n",
    "    else:\n",
    "        return 'unknown'"
   ]
  },
  {
   "cell_type": "code",
   "execution_count": 16,
   "id": "17768f4f",
   "metadata": {},
   "outputs": [],
   "source": [
    "quechua_scraped['gender'] = quechua_scraped['product'].apply(gender)"
   ]
  },
  {
   "cell_type": "code",
   "execution_count": 17,
   "id": "402f0298",
   "metadata": {},
   "outputs": [],
   "source": [
    "quechua_scraped['category'] = quechua_scraped['product'].apply(category)"
   ]
  },
  {
   "cell_type": "code",
   "execution_count": 18,
   "id": "b39421da",
   "metadata": {},
   "outputs": [
    {
     "data": {
      "text/html": [
       "<div>\n",
       "<style scoped>\n",
       "    .dataframe tbody tr th:only-of-type {\n",
       "        vertical-align: middle;\n",
       "    }\n",
       "\n",
       "    .dataframe tbody tr th {\n",
       "        vertical-align: top;\n",
       "    }\n",
       "\n",
       "    .dataframe thead th {\n",
       "        text-align: right;\n",
       "    }\n",
       "</style>\n",
       "<table border=\"1\" class=\"dataframe\">\n",
       "  <thead>\n",
       "    <tr style=\"text-align: right;\">\n",
       "      <th></th>\n",
       "      <th>product</th>\n",
       "      <th>price</th>\n",
       "      <th>gender</th>\n",
       "      <th>category</th>\n",
       "    </tr>\n",
       "  </thead>\n",
       "  <tbody>\n",
       "    <tr>\n",
       "      <th>0</th>\n",
       "      <td>Chaussettes chaudes de randonnée - SH500 U-WAR...</td>\n",
       "      <td>14€</td>\n",
       "      <td>unisex</td>\n",
       "      <td>socks</td>\n",
       "    </tr>\n",
       "    <tr>\n",
       "      <th>1</th>\n",
       "      <td>PANTALON CHAUD DÉPERLANT DE RANDONNÉE NEIGE - ...</td>\n",
       "      <td>50€</td>\n",
       "      <td>men</td>\n",
       "      <td>pants</td>\n",
       "    </tr>\n",
       "    <tr>\n",
       "      <th>2</th>\n",
       "      <td>Pantalon chaud déperlant de randonnée - SH100 ...</td>\n",
       "      <td>20€</td>\n",
       "      <td>women</td>\n",
       "      <td>pants</td>\n",
       "    </tr>\n",
       "  </tbody>\n",
       "</table>\n",
       "</div>"
      ],
      "text/plain": [
       "                                             product price  gender category\n",
       "0  Chaussettes chaudes de randonnée - SH500 U-WAR...   14€  unisex    socks\n",
       "1  PANTALON CHAUD DÉPERLANT DE RANDONNÉE NEIGE - ...   50€     men    pants\n",
       "2  Pantalon chaud déperlant de randonnée - SH100 ...   20€   women    pants"
      ]
     },
     "execution_count": 18,
     "metadata": {},
     "output_type": "execute_result"
    }
   ],
   "source": [
    "quechua_scraped.head(3)"
   ]
  },
  {
   "cell_type": "code",
   "execution_count": 19,
   "id": "142b3dbf",
   "metadata": {},
   "outputs": [],
   "source": [
    "quechua_scraped['brand'] = 'quechua'"
   ]
  },
  {
   "cell_type": "code",
   "execution_count": 20,
   "id": "eaf8f16c",
   "metadata": {},
   "outputs": [],
   "source": [
    "quechua_scraped.drop(['product'],axis=1,inplace=True)"
   ]
  },
  {
   "cell_type": "code",
   "execution_count": 21,
   "id": "37dbb36f",
   "metadata": {},
   "outputs": [
    {
     "data": {
      "text/plain": [
       "children    113\n",
       "men          81\n",
       "women        80\n",
       "unisex       17\n",
       "Name: gender, dtype: int64"
      ]
     },
     "execution_count": 21,
     "metadata": {},
     "output_type": "execute_result"
    }
   ],
   "source": [
    "quechua_scraped.gender.value_counts()"
   ]
  },
  {
   "cell_type": "code",
   "execution_count": 22,
   "id": "30f09942",
   "metadata": {},
   "outputs": [
    {
     "data": {
      "text/plain": [
       "jacket     83\n",
       "unknown    70\n",
       "pants      58\n",
       "t-shirt    29\n",
       "fleece     15\n",
       "vest       11\n",
       "coat        8\n",
       "legging     6\n",
       "socks       6\n",
       "gloves      5\n",
       "Name: category, dtype: int64"
      ]
     },
     "execution_count": 22,
     "metadata": {},
     "output_type": "execute_result"
    }
   ],
   "source": [
    "quechua_scraped.category.value_counts()"
   ]
  },
  {
   "cell_type": "markdown",
   "id": "a983b878",
   "metadata": {},
   "source": [
    "2.2. Scrape data for Vaude and store in DataFrame"
   ]
  },
  {
   "cell_type": "code",
   "execution_count": 24,
   "id": "0403b841",
   "metadata": {},
   "outputs": [
    {
     "name": "stdout",
     "output_type": "stream",
     "text": [
      "384\n"
     ]
    }
   ],
   "source": [
    "url_origine = 'https://www.vaude.com/fr-FR/search?sSearch=randonnes&p={}'\n",
    "\n",
    "vaude_products = []\n",
    "\n",
    "for i in range(1,9):  \n",
    "    url_complete = url_origine.format(i)\n",
    "        \n",
    "    vaude = requests.Session().get(url_complete)\n",
    "    soup = BeautifulSoup(vaude.content)\n",
    "    \n",
    "    for y in soup.find_all(class_='product--details'):\n",
    "        vaude_products.append(y.text)\n",
    "        \n",
    "vaude_products = [x.replace('\\n', '') for x in vaude_products]                    \n",
    "print(len(vaude_products))"
   ]
  },
  {
   "cell_type": "code",
   "execution_count": 25,
   "id": "40a05749",
   "metadata": {},
   "outputs": [],
   "source": [
    "vaude_scraped = pd.DataFrame({'rawdata':vaude_products})"
   ]
  },
  {
   "cell_type": "code",
   "execution_count": 26,
   "id": "85ba8f4c",
   "metadata": {},
   "outputs": [],
   "source": [
    "vaude_scraped['price'] = vaude_scraped.rawdata.apply(lambda x:re.findall('\\d+,\\d\\d\\ €',x)[0])"
   ]
  },
  {
   "cell_type": "code",
   "execution_count": 27,
   "id": "aecee742",
   "metadata": {},
   "outputs": [],
   "source": [
    "vaude_scraped['gender'] = vaude_scraped['rawdata'].apply(gender)"
   ]
  },
  {
   "cell_type": "code",
   "execution_count": 28,
   "id": "4cc20bf9",
   "metadata": {},
   "outputs": [],
   "source": [
    "vaude_scraped['category'] = vaude_scraped['rawdata'].apply(category)"
   ]
  },
  {
   "cell_type": "code",
   "execution_count": 29,
   "id": "0c63d055",
   "metadata": {},
   "outputs": [
    {
     "data": {
      "text/html": [
       "<div>\n",
       "<style scoped>\n",
       "    .dataframe tbody tr th:only-of-type {\n",
       "        vertical-align: middle;\n",
       "    }\n",
       "\n",
       "    .dataframe tbody tr th {\n",
       "        vertical-align: top;\n",
       "    }\n",
       "\n",
       "    .dataframe thead th {\n",
       "        text-align: right;\n",
       "    }\n",
       "</style>\n",
       "<table border=\"1\" class=\"dataframe\">\n",
       "  <thead>\n",
       "    <tr style=\"text-align: right;\">\n",
       "      <th></th>\n",
       "      <th>rawdata</th>\n",
       "      <th>price</th>\n",
       "      <th>gender</th>\n",
       "      <th>category</th>\n",
       "    </tr>\n",
       "  </thead>\n",
       "  <tbody>\n",
       "    <tr>\n",
       "      <th>5</th>\n",
       "      <td>Monviso veste de randonnée isolante homme200,00 €</td>\n",
       "      <td>200,00 €</td>\n",
       "      <td>men</td>\n",
       "      <td>jacket</td>\n",
       "    </tr>\n",
       "    <tr>\n",
       "      <th>6</th>\n",
       "      <td>Monviso veste de randonnée isolante femme200,00 €</td>\n",
       "      <td>200,00 €</td>\n",
       "      <td>women</td>\n",
       "      <td>jacket</td>\n",
       "    </tr>\n",
       "    <tr>\n",
       "      <th>7</th>\n",
       "      <td>TH Wool Socks chaussettes de randonnée longues...</td>\n",
       "      <td>17,00 €</td>\n",
       "      <td>unisex</td>\n",
       "      <td>socks</td>\n",
       "    </tr>\n",
       "  </tbody>\n",
       "</table>\n",
       "</div>"
      ],
      "text/plain": [
       "                                             rawdata     price  gender  \\\n",
       "5  Monviso veste de randonnée isolante homme200,00 €  200,00 €     men   \n",
       "6  Monviso veste de randonnée isolante femme200,00 €  200,00 €   women   \n",
       "7  TH Wool Socks chaussettes de randonnée longues...   17,00 €  unisex   \n",
       "\n",
       "  category  \n",
       "5   jacket  \n",
       "6   jacket  \n",
       "7    socks  "
      ]
     },
     "execution_count": 29,
     "metadata": {},
     "output_type": "execute_result"
    }
   ],
   "source": [
    "vaude_scraped[vaude_scraped.category!='unknown'].head(3)"
   ]
  },
  {
   "cell_type": "code",
   "execution_count": 30,
   "id": "acab520a",
   "metadata": {},
   "outputs": [],
   "source": [
    "vaude_scraped['brand'] = 'vaude'"
   ]
  },
  {
   "cell_type": "code",
   "execution_count": 31,
   "id": "f0493f41",
   "metadata": {},
   "outputs": [],
   "source": [
    "vaude_scraped.drop(['rawdata'],axis=1,inplace=True)"
   ]
  },
  {
   "cell_type": "code",
   "execution_count": 32,
   "id": "2e8437ee",
   "metadata": {},
   "outputs": [
    {
     "data": {
      "text/plain": [
       "unisex      174\n",
       "women       109\n",
       "men          79\n",
       "children     22\n",
       "Name: gender, dtype: int64"
      ]
     },
     "execution_count": 32,
     "metadata": {},
     "output_type": "execute_result"
    }
   ],
   "source": [
    "vaude_scraped['gender'].value_counts()"
   ]
  },
  {
   "cell_type": "code",
   "execution_count": 33,
   "id": "daf8d3c1",
   "metadata": {},
   "outputs": [
    {
     "data": {
      "text/plain": [
       "unknown    230\n",
       "jacket      74\n",
       "pants       44\n",
       "t-shirt     17\n",
       "vest         6\n",
       "gloves       6\n",
       "fleece       4\n",
       "socks        2\n",
       "coat         1\n",
       "Name: category, dtype: int64"
      ]
     },
     "execution_count": 33,
     "metadata": {},
     "output_type": "execute_result"
    }
   ],
   "source": [
    "vaude_scraped['category'].value_counts()"
   ]
  },
  {
   "cell_type": "markdown",
   "id": "56234d38",
   "metadata": {},
   "source": [
    "2.3. Concatenate and clean data"
   ]
  },
  {
   "cell_type": "code",
   "execution_count": 34,
   "id": "8f7cfb10",
   "metadata": {},
   "outputs": [],
   "source": [
    "quechua_vaude = pd.concat([quechua_scraped,vaude_scraped])"
   ]
  },
  {
   "cell_type": "code",
   "execution_count": 35,
   "id": "c684da0f",
   "metadata": {},
   "outputs": [],
   "source": [
    "quechua_vaude = quechua_vaude[['brand','gender','category','price']]"
   ]
  },
  {
   "cell_type": "code",
   "execution_count": 36,
   "id": "6134327e",
   "metadata": {},
   "outputs": [],
   "source": [
    "quechua_vaude['price']=quechua_vaude.price.apply(lambda x: x.replace('€',''))\n",
    "quechua_vaude['price']=quechua_vaude.price.apply(lambda x: x.split(',')[0])"
   ]
  },
  {
   "cell_type": "code",
   "execution_count": 37,
   "id": "da3d75dd",
   "metadata": {},
   "outputs": [],
   "source": [
    "quechua_vaude['price']=quechua_vaude['price'].astype('int')"
   ]
  },
  {
   "cell_type": "code",
   "execution_count": 38,
   "id": "2c9c4036",
   "metadata": {},
   "outputs": [],
   "source": [
    "quechua_vaude.drop(quechua_vaude[quechua_vaude.category=='unknown'].index,inplace=True)\n",
    "quechua_vaude.reset_index(drop=True,inplace=True)"
   ]
  },
  {
   "cell_type": "code",
   "execution_count": 39,
   "id": "81a1567d",
   "metadata": {},
   "outputs": [
    {
     "data": {
      "text/html": [
       "<div>\n",
       "<style scoped>\n",
       "    .dataframe tbody tr th:only-of-type {\n",
       "        vertical-align: middle;\n",
       "    }\n",
       "\n",
       "    .dataframe tbody tr th {\n",
       "        vertical-align: top;\n",
       "    }\n",
       "\n",
       "    .dataframe thead th {\n",
       "        text-align: right;\n",
       "    }\n",
       "</style>\n",
       "<table border=\"1\" class=\"dataframe\">\n",
       "  <thead>\n",
       "    <tr style=\"text-align: right;\">\n",
       "      <th></th>\n",
       "      <th>brand</th>\n",
       "      <th>gender</th>\n",
       "      <th>category</th>\n",
       "      <th>price</th>\n",
       "    </tr>\n",
       "  </thead>\n",
       "  <tbody>\n",
       "    <tr>\n",
       "      <th>0</th>\n",
       "      <td>quechua</td>\n",
       "      <td>men</td>\n",
       "      <td>jacket</td>\n",
       "      <td>35</td>\n",
       "    </tr>\n",
       "    <tr>\n",
       "      <th>1</th>\n",
       "      <td>quechua</td>\n",
       "      <td>men</td>\n",
       "      <td>pants</td>\n",
       "      <td>35</td>\n",
       "    </tr>\n",
       "    <tr>\n",
       "      <th>2</th>\n",
       "      <td>quechua</td>\n",
       "      <td>men</td>\n",
       "      <td>jacket</td>\n",
       "      <td>15</td>\n",
       "    </tr>\n",
       "  </tbody>\n",
       "</table>\n",
       "</div>"
      ],
      "text/plain": [
       "     brand gender category  price\n",
       "0  quechua    men   jacket     35\n",
       "1  quechua    men    pants     35\n",
       "2  quechua    men   jacket     15"
      ]
     },
     "execution_count": 39,
     "metadata": {},
     "output_type": "execute_result"
    }
   ],
   "source": [
    "quechua_vaude.head(3)"
   ]
  },
  {
   "cell_type": "code",
   "execution_count": 40,
   "id": "041ae605",
   "metadata": {},
   "outputs": [
    {
     "data": {
      "text/plain": [
       "vaude      127\n",
       "quechua    110\n",
       "Name: brand, dtype: int64"
      ]
     },
     "execution_count": 40,
     "metadata": {},
     "output_type": "execute_result"
    }
   ],
   "source": [
    "quechua_vaude.brand.value_counts()"
   ]
  },
  {
   "cell_type": "markdown",
   "id": "ae11dfe0",
   "metadata": {},
   "source": [
    "2.4. Compare product prices with boxplots"
   ]
  },
  {
   "cell_type": "code",
   "execution_count": 41,
   "id": "18c05d60",
   "metadata": {},
   "outputs": [
    {
     "data": {
      "image/png": "[encoded data removed]",
      "text/plain": [
       "<Figure size 1440x648 with 1 Axes>"
      ]
     },
     "metadata": {},
     "output_type": "display_data"
    }
   ],
   "source": [
    "gender_data = quechua_vaude[quechua_vaude.gender!='unisex']\n",
    "\n",
    "plt.figure(figsize=(20,9))\n",
    "sns.boxplot(x='gender',y='price',hue='brand',data=gender_data)\n",
    "plt.title('Product prices for hiking clothes per gender for brands Quechua vs Vaude')\n",
    "plt.show()"
   ]
  },
  {
   "cell_type": "code",
   "execution_count": 42,
   "id": "33a794c2",
   "metadata": {},
   "outputs": [
    {
     "data": {
      "image/png": "[encoded data removed]",
      "text/plain": [
       "<Figure size 1440x648 with 1 Axes>"
      ]
     },
     "metadata": {},
     "output_type": "display_data"
    }
   ],
   "source": [
    "category_data = quechua_vaude[~quechua_vaude.category.isin(['socks','coat','legging'])]\n",
    "\n",
    "plt.figure(figsize=(20,9))\n",
    "sns.boxplot(x='category',y='price',hue='brand',data=category_data)\n",
    "plt.title('Product prices for categories of hiking clothes for Quechua and Vaude')\n",
    "plt.show()"
   ]
  },
  {
   "cell_type": "markdown",
   "id": "e8e8920c",
   "metadata": {},
   "source": [
    "**Conclusion 2:** Not surprisingly, the comparison of product prices between Quechua and Vaude shows, that the french company is consistently cheaper over all product categories and independant of gender. Regarding the position of the median in the boxplot (mostly lower end of the blue box), it can be derived that Vaude has multiple categories with pricing outliers. That means that while Vaude is already more expensive, its sortiment has some products with very hefty prices (400€). An interesting detail for Quechua is that the median is closer to the lower end of the red box for men and the upper end for women. Consequently, Quechua offers a large quantity of very low-price products for men, while for women most products are a higher intermediary price, with some outliers (100€)."
   ]
  }
 ],
 "metadata": {
  "kernelspec": {
   "display_name": "Python 3",
   "language": "python",
   "name": "python3"
  },
  "language_info": {
   "codemirror_mode": {
    "name": "ipython",
    "version": 3
   },
   "file_extension": ".py",
   "mimetype": "text/x-python",
   "name": "python",
   "nbconvert_exporter": "python",
   "pygments_lexer": "ipython3",
   "version": "3.8.8"
  }
 },
 "nbformat": 4,
 "nbformat_minor": 5
}
